{
 "cells": [
  {
   "cell_type": "markdown",
   "metadata": {},
   "source": [
    "# Nodes\n",
    "## Location node\n",
    "- Frequency of a location is visited by a patient, _Fl_\n",
    "- Total duration of patient stayed in a location, _Dp (s)_\n",
    "- Number of susceptible humans, _Sl_\n",
    "\n",
    "$\\sum{\\textrm{Location node parameter}_i} = (Fl_i + Dp_i + Sl_i ) $\n",
    "\n",
    "## Human node \n",
    "- Frequency of human visited a location, _Fh_\n",
    "- Total duration of human stayed in a location, _Du (s)_\n",
    "- Vaccination, _V_\n",
    "- Age of the susceptible human, _As_\n",
    "- Pregnancy, _P_\n",
    "\n",
    "$\\sum{\\textrm{Human node parameter}_j} = (Fh_{j,i} + Du_{j,i} + V_j + As_j+P_j), i \\in \\textrm{Locations}$\n",
    "\n",
    "## Link weight\n",
    "$MCS_{i,j} = \\sum{\\textrm{Human node parameter}_j} + \\sum{\\textrm{Location node parameter}_i}= (Fh_{j,i} + Du_{j,i} + V_j + As_j+P_j ) + (Fl_i + Dp_i + Sl_i )$"
   ]
  },
  {
   "cell_type": "markdown",
   "metadata": {},
   "source": [
    "# Raw data\n",
    "## Location data\n",
    "All valid locations visited by (1) patient, (2) susceptible human"
   ]
  },
  {
   "cell_type": "code",
   "execution_count": 1,
   "metadata": {},
   "outputs": [
    {
     "data": {
      "text/html": [
       "<table>\n",
       "<caption>A data.frame: 16 × 3</caption>\n",
       "<thead>\n",
       "\t<tr><th scope=col>Location.Address</th><th scope=col>Latitude</th><th scope=col>Longitude</th></tr>\n",
       "\t<tr><th scope=col>&lt;fct&gt;</th><th scope=col>&lt;dbl&gt;</th><th scope=col>&lt;dbl&gt;</th></tr>\n",
       "</thead>\n",
       "<tbody>\n",
       "\t<tr><td>Kampung Felcra Bukit Kapah,21700 Kula Berang, Terengganu</td><td>5.107582</td><td>102.9058</td></tr>\n",
       "\t<tr><td>Kampung Tengkawang,21700 Kuala Berang, Terengganu       </td><td>5.162444</td><td>102.9279</td></tr>\n",
       "\t<tr><td>Kampung Gaung,21700 Kuala Berang, Terengganu            </td><td>5.070730</td><td>102.9988</td></tr>\n",
       "\t<tr><td>Kampung Tajin,21700 Kuala Berang, Terengganu            </td><td>5.118371</td><td>102.9894</td></tr>\n",
       "\t<tr><td>Kampung Chapu,21700 Kuala Berang, Terengganu            </td><td>5.178144</td><td>102.8967</td></tr>\n",
       "\t<tr><td>Kampung Bukit Kubur,21700 Kuala Berang, Terengganu      </td><td>5.222297</td><td>102.8724</td></tr>\n",
       "\t<tr><td>Kampung Teris,21700 Kuala Berang, Terengganu            </td><td>5.216057</td><td>102.8752</td></tr>\n",
       "\t<tr><td>Kampung Gapur,21700 Kuala Berang, Terengganu            </td><td>5.187075</td><td>102.8881</td></tr>\n",
       "\t<tr><td>Kampung Paya Akob,21700 Kuala Berang, Terengganu        </td><td>5.124478</td><td>102.9849</td></tr>\n",
       "\t<tr><td>Kampung Kuala Ping,21700 Kuala Berang, Terengganu       </td><td>5.159361</td><td>102.9067</td></tr>\n",
       "\t<tr><td>Kampung Kepah,21700 Kuala Berang, Terengganu            </td><td>5.149787</td><td>102.9376</td></tr>\n",
       "\t<tr><td>Kampung Telaga,21700 Kuala Berang Terengganu            </td><td>5.092681</td><td>102.9994</td></tr>\n",
       "\t<tr><td>Kampung Butut,21700 Kuala Berang, Terengganu            </td><td>5.084796</td><td>103.0111</td></tr>\n",
       "\t<tr><td>Kampung Katak,21700 Kuala Berang, Terengganu            </td><td>5.158758</td><td>102.9002</td></tr>\n",
       "\t<tr><td>Kampung Langgar,21700 Kuala Berang, Terengganu          </td><td>5.102350</td><td>103.0104</td></tr>\n",
       "\t<tr><td>Kampung Pasir Simpul,21700 Kuala Berang, Terengganu     </td><td>5.173624</td><td>102.8980</td></tr>\n",
       "</tbody>\n",
       "</table>\n"
      ],
      "text/latex": [
       "A data.frame: 16 × 3\n",
       "\\begin{tabular}{lll}\n",
       " Location.Address & Latitude & Longitude\\\\\n",
       " <fct> & <dbl> & <dbl>\\\\\n",
       "\\hline\n",
       "\t Kampung Felcra Bukit Kapah,21700 Kula Berang, Terengganu & 5.107582 & 102.9058\\\\\n",
       "\t Kampung Tengkawang,21700 Kuala Berang, Terengganu        & 5.162444 & 102.9279\\\\\n",
       "\t Kampung Gaung,21700 Kuala Berang, Terengganu             & 5.070730 & 102.9988\\\\\n",
       "\t Kampung Tajin,21700 Kuala Berang, Terengganu             & 5.118371 & 102.9894\\\\\n",
       "\t Kampung Chapu,21700 Kuala Berang, Terengganu             & 5.178144 & 102.8967\\\\\n",
       "\t Kampung Bukit Kubur,21700 Kuala Berang, Terengganu       & 5.222297 & 102.8724\\\\\n",
       "\t Kampung Teris,21700 Kuala Berang, Terengganu             & 5.216057 & 102.8752\\\\\n",
       "\t Kampung Gapur,21700 Kuala Berang, Terengganu             & 5.187075 & 102.8881\\\\\n",
       "\t Kampung Paya Akob,21700 Kuala Berang, Terengganu         & 5.124478 & 102.9849\\\\\n",
       "\t Kampung Kuala Ping,21700 Kuala Berang, Terengganu        & 5.159361 & 102.9067\\\\\n",
       "\t Kampung Kepah,21700 Kuala Berang, Terengganu             & 5.149787 & 102.9376\\\\\n",
       "\t Kampung Telaga,21700 Kuala Berang Terengganu             & 5.092681 & 102.9994\\\\\n",
       "\t Kampung Butut,21700 Kuala Berang, Terengganu             & 5.084796 & 103.0111\\\\\n",
       "\t Kampung Katak,21700 Kuala Berang, Terengganu             & 5.158758 & 102.9002\\\\\n",
       "\t Kampung Langgar,21700 Kuala Berang, Terengganu           & 5.102350 & 103.0104\\\\\n",
       "\t Kampung Pasir Simpul,21700 Kuala Berang, Terengganu      & 5.173624 & 102.8980\\\\\n",
       "\\end{tabular}\n"
      ],
      "text/markdown": [
       "\n",
       "A data.frame: 16 × 3\n",
       "\n",
       "| Location.Address &lt;fct&gt; | Latitude &lt;dbl&gt; | Longitude &lt;dbl&gt; |\n",
       "|---|---|---|\n",
       "| Kampung Felcra Bukit Kapah,21700 Kula Berang, Terengganu | 5.107582 | 102.9058 |\n",
       "| Kampung Tengkawang,21700 Kuala Berang, Terengganu        | 5.162444 | 102.9279 |\n",
       "| Kampung Gaung,21700 Kuala Berang, Terengganu             | 5.070730 | 102.9988 |\n",
       "| Kampung Tajin,21700 Kuala Berang, Terengganu             | 5.118371 | 102.9894 |\n",
       "| Kampung Chapu,21700 Kuala Berang, Terengganu             | 5.178144 | 102.8967 |\n",
       "| Kampung Bukit Kubur,21700 Kuala Berang, Terengganu       | 5.222297 | 102.8724 |\n",
       "| Kampung Teris,21700 Kuala Berang, Terengganu             | 5.216057 | 102.8752 |\n",
       "| Kampung Gapur,21700 Kuala Berang, Terengganu             | 5.187075 | 102.8881 |\n",
       "| Kampung Paya Akob,21700 Kuala Berang, Terengganu         | 5.124478 | 102.9849 |\n",
       "| Kampung Kuala Ping,21700 Kuala Berang, Terengganu        | 5.159361 | 102.9067 |\n",
       "| Kampung Kepah,21700 Kuala Berang, Terengganu             | 5.149787 | 102.9376 |\n",
       "| Kampung Telaga,21700 Kuala Berang Terengganu             | 5.092681 | 102.9994 |\n",
       "| Kampung Butut,21700 Kuala Berang, Terengganu             | 5.084796 | 103.0111 |\n",
       "| Kampung Katak,21700 Kuala Berang, Terengganu             | 5.158758 | 102.9002 |\n",
       "| Kampung Langgar,21700 Kuala Berang, Terengganu           | 5.102350 | 103.0104 |\n",
       "| Kampung Pasir Simpul,21700 Kuala Berang, Terengganu      | 5.173624 | 102.8980 |\n",
       "\n"
      ],
      "text/plain": [
       "   Location.Address                                         Latitude Longitude\n",
       "1  Kampung Felcra Bukit Kapah,21700 Kula Berang, Terengganu 5.107582 102.9058 \n",
       "2  Kampung Tengkawang,21700 Kuala Berang, Terengganu        5.162444 102.9279 \n",
       "3  Kampung Gaung,21700 Kuala Berang, Terengganu             5.070730 102.9988 \n",
       "4  Kampung Tajin,21700 Kuala Berang, Terengganu             5.118371 102.9894 \n",
       "5  Kampung Chapu,21700 Kuala Berang, Terengganu             5.178144 102.8967 \n",
       "6  Kampung Bukit Kubur,21700 Kuala Berang, Terengganu       5.222297 102.8724 \n",
       "7  Kampung Teris,21700 Kuala Berang, Terengganu             5.216057 102.8752 \n",
       "8  Kampung Gapur,21700 Kuala Berang, Terengganu             5.187075 102.8881 \n",
       "9  Kampung Paya Akob,21700 Kuala Berang, Terengganu         5.124478 102.9849 \n",
       "10 Kampung Kuala Ping,21700 Kuala Berang, Terengganu        5.159361 102.9067 \n",
       "11 Kampung Kepah,21700 Kuala Berang, Terengganu             5.149787 102.9376 \n",
       "12 Kampung Telaga,21700 Kuala Berang Terengganu             5.092681 102.9994 \n",
       "13 Kampung Butut,21700 Kuala Berang, Terengganu             5.084796 103.0111 \n",
       "14 Kampung Katak,21700 Kuala Berang, Terengganu             5.158758 102.9002 \n",
       "15 Kampung Langgar,21700 Kuala Berang, Terengganu           5.102350 103.0104 \n",
       "16 Kampung Pasir Simpul,21700 Kuala Berang, Terengganu      5.173624 102.8980 "
      ]
     },
     "metadata": {},
     "output_type": "display_data"
    }
   ],
   "source": [
    "location<-read.csv('location.csv')\n",
    "location"
   ]
  },
  {
   "cell_type": "code",
   "execution_count": 2,
   "metadata": {},
   "outputs": [],
   "source": [
    "processLocation <- function(raw_location){\n",
    "    library(geosphere)\n",
    "    return(data.frame(distm(raw_location[,c('Longitude','Latitude')],fun = distVincentyEllipsoid)))\n",
    "}"
   ]
  },
  {
   "cell_type": "code",
   "execution_count": 10,
   "metadata": {},
   "outputs": [
    {
     "data": {
      "text/html": [
       "<table>\n",
       "<caption>A data.frame: 16 × 16</caption>\n",
       "<thead>\n",
       "\t<tr><th scope=col>X1</th><th scope=col>X2</th><th scope=col>X3</th><th scope=col>X4</th><th scope=col>X5</th><th scope=col>X6</th><th scope=col>X7</th><th scope=col>X8</th><th scope=col>X9</th><th scope=col>X10</th><th scope=col>X11</th><th scope=col>X12</th><th scope=col>X13</th><th scope=col>X14</th><th scope=col>X15</th><th scope=col>X16</th></tr>\n",
       "\t<tr><th scope=col>&lt;dbl&gt;</th><th scope=col>&lt;dbl&gt;</th><th scope=col>&lt;dbl&gt;</th><th scope=col>&lt;dbl&gt;</th><th scope=col>&lt;dbl&gt;</th><th scope=col>&lt;dbl&gt;</th><th scope=col>&lt;dbl&gt;</th><th scope=col>&lt;dbl&gt;</th><th scope=col>&lt;dbl&gt;</th><th scope=col>&lt;dbl&gt;</th><th scope=col>&lt;dbl&gt;</th><th scope=col>&lt;dbl&gt;</th><th scope=col>&lt;dbl&gt;</th><th scope=col>&lt;dbl&gt;</th><th scope=col>&lt;dbl&gt;</th><th scope=col>&lt;dbl&gt;</th></tr>\n",
       "</thead>\n",
       "<tbody>\n",
       "\t<tr><td>    0.000</td><td> 6543.676</td><td>11093.151</td><td> 9355.5582</td><td> 7867.5774</td><td>13214.3779</td><td>12465.7859</td><td> 9005.898</td><td> 8969.3950</td><td> 5726.8464</td><td> 5852.303</td><td>10513.232</td><td>11946.010</td><td> 5692.6098</td><td>11615.107</td><td> 7353.7457</td></tr>\n",
       "\t<tr><td> 6543.676</td><td>    0.000</td><td>12834.127</td><td> 8387.7992</td><td> 3869.5857</td><td> 9036.7973</td><td> 8324.4520</td><td> 5182.897</td><td> 7587.4662</td><td> 2371.8842</td><td> 1767.010</td><td>11063.880</td><td>12602.371</td><td> 3094.8781</td><td>11306.903</td><td> 3536.4914</td></tr>\n",
       "\t<tr><td>11093.151</td><td>12834.127</td><td>    0.000</td><td> 5369.5648</td><td>16410.5041</td><td>21849.8188</td><td>21123.1575</td><td>17781.712</td><td> 6141.0094</td><td>14154.5111</td><td>11067.127</td><td> 2428.304</td><td> 2066.104</td><td>14638.5520</td><td> 3724.752</td><td>15950.5561</td></tr>\n",
       "\t<tr><td> 9355.558</td><td> 8387.799</td><td> 5369.565</td><td>    0.0000</td><td>12225.7327</td><td>17335.9692</td><td>16649.9821</td><td>13563.593</td><td>  844.1594</td><td>10232.6412</td><td> 6716.326</td><td> 3047.828</td><td> 4419.794</td><td>10855.8469</td><td> 2920.200</td><td>11838.5637</td></tr>\n",
       "\t<tr><td> 7867.577</td><td> 3869.586</td><td>16410.504</td><td>12225.7327</td><td>    0.0000</td><td> 5576.7657</td><td> 4823.6339</td><td> 1371.224</td><td>11438.2939</td><td> 2355.5607</td><td> 5515.080</td><td>14799.479</td><td>16352.738</td><td> 2179.0205</td><td>15138.281</td><td>  520.4173</td></tr>\n",
       "\t<tr><td>13214.378</td><td> 9036.797</td><td>21849.819</td><td>17335.9692</td><td> 5576.7657</td><td>    0.0000</td><td>  756.1453</td><td> 4267.316</td><td>16509.9302</td><td> 7932.1848</td><td>10797.511</td><td>20094.366</td><td>21625.384</td><td> 7673.7639</td><td>20249.522</td><td> 6085.4811</td></tr>\n",
       "\t<tr><td>12465.786</td><td> 8324.452</td><td>21123.157</td><td>16649.9821</td><td> 4823.6339</td><td>  756.1453</td><td>    0.0000</td><td> 3511.170</td><td>15827.4774</td><td> 7178.6564</td><td>10080.700</td><td>19387.271</td><td>20922.159</td><td> 6917.6424</td><td>19566.531</td><td> 5331.1145</td></tr>\n",
       "\t<tr><td> 9005.898</td><td> 5182.897</td><td>17781.712</td><td>13563.5927</td><td> 1371.2240</td><td> 4267.3155</td><td> 3511.1703</td><td>    0.000</td><td>12768.6922</td><td> 3693.9682</td><td> 6864.508</td><td>16162.896</td><td>17714.696</td><td> 3406.6920</td><td>16479.857</td><td> 1847.7206</td></tr>\n",
       "\t<tr><td> 8969.395</td><td> 7587.466</td><td> 6141.009</td><td>  844.1594</td><td>11438.2939</td><td>16509.9302</td><td>15827.4774</td><td>12768.692</td><td>    0.0000</td><td> 9487.0324</td><td> 5941.930</td><td> 3867.454</td><td> 5262.215</td><td>10124.5324</td><td> 3739.594</td><td>11060.7174</td></tr>\n",
       "\t<tr><td> 5726.846</td><td> 2371.884</td><td>14154.511</td><td>10232.6412</td><td> 2355.5607</td><td> 7932.1848</td><td> 7178.6564</td><td> 3693.968</td><td> 9487.0324</td><td>    0.0000</td><td> 3585.708</td><td>12649.436</td><td>14209.114</td><td>  723.7433</td><td>13110.639</td><td> 1849.6242</td></tr>\n",
       "\t<tr><td> 5852.303</td><td> 1767.010</td><td>11067.127</td><td> 6716.3262</td><td> 5515.0803</td><td>10797.5113</td><td>10080.6996</td><td> 6864.508</td><td> 5941.9299</td><td> 3585.7076</td><td>    0.000</td><td> 9318.219</td><td>10863.139</td><td> 4263.5357</td><td> 9624.619</td><td> 5122.2507</td></tr>\n",
       "\t<tr><td>10513.232</td><td>11063.880</td><td> 2428.304</td><td> 3047.8276</td><td>14799.4786</td><td>20094.3656</td><td>19387.2707</td><td>16162.896</td><td> 3867.4542</td><td>12649.4360</td><td> 9318.219</td><td>    0.000</td><td> 1560.280</td><td>13204.6793</td><td> 1620.345</td><td>14371.7702</td></tr>\n",
       "\t<tr><td>11946.010</td><td>12602.371</td><td> 2066.104</td><td> 4419.7937</td><td>16352.7383</td><td>21625.3835</td><td>20922.1586</td><td>17714.696</td><td> 5262.2149</td><td>14209.1144</td><td>10863.139</td><td> 1560.280</td><td>    0.000</td><td>14764.9293</td><td> 1942.677</td><td>15927.6109</td></tr>\n",
       "\t<tr><td> 5692.610</td><td> 3094.878</td><td>14638.552</td><td>10855.8469</td><td> 2179.0205</td><td> 7673.7639</td><td> 6917.6424</td><td> 3406.692</td><td>10124.5324</td><td>  723.7433</td><td> 4263.536</td><td>13204.679</td><td>14764.929</td><td>    0.0000</td><td>13716.463</td><td> 1662.1562</td></tr>\n",
       "\t<tr><td>11615.107</td><td>11306.903</td><td> 3724.752</td><td> 2920.1996</td><td>15138.2808</td><td>20249.5222</td><td>19566.5305</td><td>16479.857</td><td> 3739.5942</td><td>13110.6386</td><td> 9624.619</td><td> 1620.345</td><td> 1942.677</td><td>13716.4626</td><td>    0.000</td><td>14744.7296</td></tr>\n",
       "\t<tr><td> 7353.746</td><td> 3536.491</td><td>15950.556</td><td>11838.5637</td><td>  520.4173</td><td> 6085.4811</td><td> 5331.1145</td><td> 1847.721</td><td>11060.7174</td><td> 1849.6242</td><td> 5122.251</td><td>14371.770</td><td>15927.611</td><td> 1662.1562</td><td>14744.730</td><td>    0.0000</td></tr>\n",
       "</tbody>\n",
       "</table>\n"
      ],
      "text/latex": [
       "A data.frame: 16 × 16\n",
       "\\begin{tabular}{llllllllllllllll}\n",
       " X1 & X2 & X3 & X4 & X5 & X6 & X7 & X8 & X9 & X10 & X11 & X12 & X13 & X14 & X15 & X16\\\\\n",
       " <dbl> & <dbl> & <dbl> & <dbl> & <dbl> & <dbl> & <dbl> & <dbl> & <dbl> & <dbl> & <dbl> & <dbl> & <dbl> & <dbl> & <dbl> & <dbl>\\\\\n",
       "\\hline\n",
       "\t     0.000 &  6543.676 & 11093.151 &  9355.5582 &  7867.5774 & 13214.3779 & 12465.7859 &  9005.898 &  8969.3950 &  5726.8464 &  5852.303 & 10513.232 & 11946.010 &  5692.6098 & 11615.107 &  7353.7457\\\\\n",
       "\t  6543.676 &     0.000 & 12834.127 &  8387.7992 &  3869.5857 &  9036.7973 &  8324.4520 &  5182.897 &  7587.4662 &  2371.8842 &  1767.010 & 11063.880 & 12602.371 &  3094.8781 & 11306.903 &  3536.4914\\\\\n",
       "\t 11093.151 & 12834.127 &     0.000 &  5369.5648 & 16410.5041 & 21849.8188 & 21123.1575 & 17781.712 &  6141.0094 & 14154.5111 & 11067.127 &  2428.304 &  2066.104 & 14638.5520 &  3724.752 & 15950.5561\\\\\n",
       "\t  9355.558 &  8387.799 &  5369.565 &     0.0000 & 12225.7327 & 17335.9692 & 16649.9821 & 13563.593 &   844.1594 & 10232.6412 &  6716.326 &  3047.828 &  4419.794 & 10855.8469 &  2920.200 & 11838.5637\\\\\n",
       "\t  7867.577 &  3869.586 & 16410.504 & 12225.7327 &     0.0000 &  5576.7657 &  4823.6339 &  1371.224 & 11438.2939 &  2355.5607 &  5515.080 & 14799.479 & 16352.738 &  2179.0205 & 15138.281 &   520.4173\\\\\n",
       "\t 13214.378 &  9036.797 & 21849.819 & 17335.9692 &  5576.7657 &     0.0000 &   756.1453 &  4267.316 & 16509.9302 &  7932.1848 & 10797.511 & 20094.366 & 21625.384 &  7673.7639 & 20249.522 &  6085.4811\\\\\n",
       "\t 12465.786 &  8324.452 & 21123.157 & 16649.9821 &  4823.6339 &   756.1453 &     0.0000 &  3511.170 & 15827.4774 &  7178.6564 & 10080.700 & 19387.271 & 20922.159 &  6917.6424 & 19566.531 &  5331.1145\\\\\n",
       "\t  9005.898 &  5182.897 & 17781.712 & 13563.5927 &  1371.2240 &  4267.3155 &  3511.1703 &     0.000 & 12768.6922 &  3693.9682 &  6864.508 & 16162.896 & 17714.696 &  3406.6920 & 16479.857 &  1847.7206\\\\\n",
       "\t  8969.395 &  7587.466 &  6141.009 &   844.1594 & 11438.2939 & 16509.9302 & 15827.4774 & 12768.692 &     0.0000 &  9487.0324 &  5941.930 &  3867.454 &  5262.215 & 10124.5324 &  3739.594 & 11060.7174\\\\\n",
       "\t  5726.846 &  2371.884 & 14154.511 & 10232.6412 &  2355.5607 &  7932.1848 &  7178.6564 &  3693.968 &  9487.0324 &     0.0000 &  3585.708 & 12649.436 & 14209.114 &   723.7433 & 13110.639 &  1849.6242\\\\\n",
       "\t  5852.303 &  1767.010 & 11067.127 &  6716.3262 &  5515.0803 & 10797.5113 & 10080.6996 &  6864.508 &  5941.9299 &  3585.7076 &     0.000 &  9318.219 & 10863.139 &  4263.5357 &  9624.619 &  5122.2507\\\\\n",
       "\t 10513.232 & 11063.880 &  2428.304 &  3047.8276 & 14799.4786 & 20094.3656 & 19387.2707 & 16162.896 &  3867.4542 & 12649.4360 &  9318.219 &     0.000 &  1560.280 & 13204.6793 &  1620.345 & 14371.7702\\\\\n",
       "\t 11946.010 & 12602.371 &  2066.104 &  4419.7937 & 16352.7383 & 21625.3835 & 20922.1586 & 17714.696 &  5262.2149 & 14209.1144 & 10863.139 &  1560.280 &     0.000 & 14764.9293 &  1942.677 & 15927.6109\\\\\n",
       "\t  5692.610 &  3094.878 & 14638.552 & 10855.8469 &  2179.0205 &  7673.7639 &  6917.6424 &  3406.692 & 10124.5324 &   723.7433 &  4263.536 & 13204.679 & 14764.929 &     0.0000 & 13716.463 &  1662.1562\\\\\n",
       "\t 11615.107 & 11306.903 &  3724.752 &  2920.1996 & 15138.2808 & 20249.5222 & 19566.5305 & 16479.857 &  3739.5942 & 13110.6386 &  9624.619 &  1620.345 &  1942.677 & 13716.4626 &     0.000 & 14744.7296\\\\\n",
       "\t  7353.746 &  3536.491 & 15950.556 & 11838.5637 &   520.4173 &  6085.4811 &  5331.1145 &  1847.721 & 11060.7174 &  1849.6242 &  5122.251 & 14371.770 & 15927.611 &  1662.1562 & 14744.730 &     0.0000\\\\\n",
       "\\end{tabular}\n"
      ],
      "text/markdown": [
       "\n",
       "A data.frame: 16 × 16\n",
       "\n",
       "| X1 &lt;dbl&gt; | X2 &lt;dbl&gt; | X3 &lt;dbl&gt; | X4 &lt;dbl&gt; | X5 &lt;dbl&gt; | X6 &lt;dbl&gt; | X7 &lt;dbl&gt; | X8 &lt;dbl&gt; | X9 &lt;dbl&gt; | X10 &lt;dbl&gt; | X11 &lt;dbl&gt; | X12 &lt;dbl&gt; | X13 &lt;dbl&gt; | X14 &lt;dbl&gt; | X15 &lt;dbl&gt; | X16 &lt;dbl&gt; |\n",
       "|---|---|---|---|---|---|---|---|---|---|---|---|---|---|---|---|\n",
       "|     0.000 |  6543.676 | 11093.151 |  9355.5582 |  7867.5774 | 13214.3779 | 12465.7859 |  9005.898 |  8969.3950 |  5726.8464 |  5852.303 | 10513.232 | 11946.010 |  5692.6098 | 11615.107 |  7353.7457 |\n",
       "|  6543.676 |     0.000 | 12834.127 |  8387.7992 |  3869.5857 |  9036.7973 |  8324.4520 |  5182.897 |  7587.4662 |  2371.8842 |  1767.010 | 11063.880 | 12602.371 |  3094.8781 | 11306.903 |  3536.4914 |\n",
       "| 11093.151 | 12834.127 |     0.000 |  5369.5648 | 16410.5041 | 21849.8188 | 21123.1575 | 17781.712 |  6141.0094 | 14154.5111 | 11067.127 |  2428.304 |  2066.104 | 14638.5520 |  3724.752 | 15950.5561 |\n",
       "|  9355.558 |  8387.799 |  5369.565 |     0.0000 | 12225.7327 | 17335.9692 | 16649.9821 | 13563.593 |   844.1594 | 10232.6412 |  6716.326 |  3047.828 |  4419.794 | 10855.8469 |  2920.200 | 11838.5637 |\n",
       "|  7867.577 |  3869.586 | 16410.504 | 12225.7327 |     0.0000 |  5576.7657 |  4823.6339 |  1371.224 | 11438.2939 |  2355.5607 |  5515.080 | 14799.479 | 16352.738 |  2179.0205 | 15138.281 |   520.4173 |\n",
       "| 13214.378 |  9036.797 | 21849.819 | 17335.9692 |  5576.7657 |     0.0000 |   756.1453 |  4267.316 | 16509.9302 |  7932.1848 | 10797.511 | 20094.366 | 21625.384 |  7673.7639 | 20249.522 |  6085.4811 |\n",
       "| 12465.786 |  8324.452 | 21123.157 | 16649.9821 |  4823.6339 |   756.1453 |     0.0000 |  3511.170 | 15827.4774 |  7178.6564 | 10080.700 | 19387.271 | 20922.159 |  6917.6424 | 19566.531 |  5331.1145 |\n",
       "|  9005.898 |  5182.897 | 17781.712 | 13563.5927 |  1371.2240 |  4267.3155 |  3511.1703 |     0.000 | 12768.6922 |  3693.9682 |  6864.508 | 16162.896 | 17714.696 |  3406.6920 | 16479.857 |  1847.7206 |\n",
       "|  8969.395 |  7587.466 |  6141.009 |   844.1594 | 11438.2939 | 16509.9302 | 15827.4774 | 12768.692 |     0.0000 |  9487.0324 |  5941.930 |  3867.454 |  5262.215 | 10124.5324 |  3739.594 | 11060.7174 |\n",
       "|  5726.846 |  2371.884 | 14154.511 | 10232.6412 |  2355.5607 |  7932.1848 |  7178.6564 |  3693.968 |  9487.0324 |     0.0000 |  3585.708 | 12649.436 | 14209.114 |   723.7433 | 13110.639 |  1849.6242 |\n",
       "|  5852.303 |  1767.010 | 11067.127 |  6716.3262 |  5515.0803 | 10797.5113 | 10080.6996 |  6864.508 |  5941.9299 |  3585.7076 |     0.000 |  9318.219 | 10863.139 |  4263.5357 |  9624.619 |  5122.2507 |\n",
       "| 10513.232 | 11063.880 |  2428.304 |  3047.8276 | 14799.4786 | 20094.3656 | 19387.2707 | 16162.896 |  3867.4542 | 12649.4360 |  9318.219 |     0.000 |  1560.280 | 13204.6793 |  1620.345 | 14371.7702 |\n",
       "| 11946.010 | 12602.371 |  2066.104 |  4419.7937 | 16352.7383 | 21625.3835 | 20922.1586 | 17714.696 |  5262.2149 | 14209.1144 | 10863.139 |  1560.280 |     0.000 | 14764.9293 |  1942.677 | 15927.6109 |\n",
       "|  5692.610 |  3094.878 | 14638.552 | 10855.8469 |  2179.0205 |  7673.7639 |  6917.6424 |  3406.692 | 10124.5324 |   723.7433 |  4263.536 | 13204.679 | 14764.929 |     0.0000 | 13716.463 |  1662.1562 |\n",
       "| 11615.107 | 11306.903 |  3724.752 |  2920.1996 | 15138.2808 | 20249.5222 | 19566.5305 | 16479.857 |  3739.5942 | 13110.6386 |  9624.619 |  1620.345 |  1942.677 | 13716.4626 |     0.000 | 14744.7296 |\n",
       "|  7353.746 |  3536.491 | 15950.556 | 11838.5637 |   520.4173 |  6085.4811 |  5331.1145 |  1847.721 | 11060.7174 |  1849.6242 |  5122.251 | 14371.770 | 15927.611 |  1662.1562 | 14744.730 |     0.0000 |\n",
       "\n"
      ],
      "text/plain": [
       "   X1        X2        X3        X4         X5         X6         X7        \n",
       "1      0.000  6543.676 11093.151  9355.5582  7867.5774 13214.3779 12465.7859\n",
       "2   6543.676     0.000 12834.127  8387.7992  3869.5857  9036.7973  8324.4520\n",
       "3  11093.151 12834.127     0.000  5369.5648 16410.5041 21849.8188 21123.1575\n",
       "4   9355.558  8387.799  5369.565     0.0000 12225.7327 17335.9692 16649.9821\n",
       "5   7867.577  3869.586 16410.504 12225.7327     0.0000  5576.7657  4823.6339\n",
       "6  13214.378  9036.797 21849.819 17335.9692  5576.7657     0.0000   756.1453\n",
       "7  12465.786  8324.452 21123.157 16649.9821  4823.6339   756.1453     0.0000\n",
       "8   9005.898  5182.897 17781.712 13563.5927  1371.2240  4267.3155  3511.1703\n",
       "9   8969.395  7587.466  6141.009   844.1594 11438.2939 16509.9302 15827.4774\n",
       "10  5726.846  2371.884 14154.511 10232.6412  2355.5607  7932.1848  7178.6564\n",
       "11  5852.303  1767.010 11067.127  6716.3262  5515.0803 10797.5113 10080.6996\n",
       "12 10513.232 11063.880  2428.304  3047.8276 14799.4786 20094.3656 19387.2707\n",
       "13 11946.010 12602.371  2066.104  4419.7937 16352.7383 21625.3835 20922.1586\n",
       "14  5692.610  3094.878 14638.552 10855.8469  2179.0205  7673.7639  6917.6424\n",
       "15 11615.107 11306.903  3724.752  2920.1996 15138.2808 20249.5222 19566.5305\n",
       "16  7353.746  3536.491 15950.556 11838.5637   520.4173  6085.4811  5331.1145\n",
       "   X8        X9         X10        X11       X12       X13       X14       \n",
       "1   9005.898  8969.3950  5726.8464  5852.303 10513.232 11946.010  5692.6098\n",
       "2   5182.897  7587.4662  2371.8842  1767.010 11063.880 12602.371  3094.8781\n",
       "3  17781.712  6141.0094 14154.5111 11067.127  2428.304  2066.104 14638.5520\n",
       "4  13563.593   844.1594 10232.6412  6716.326  3047.828  4419.794 10855.8469\n",
       "5   1371.224 11438.2939  2355.5607  5515.080 14799.479 16352.738  2179.0205\n",
       "6   4267.316 16509.9302  7932.1848 10797.511 20094.366 21625.384  7673.7639\n",
       "7   3511.170 15827.4774  7178.6564 10080.700 19387.271 20922.159  6917.6424\n",
       "8      0.000 12768.6922  3693.9682  6864.508 16162.896 17714.696  3406.6920\n",
       "9  12768.692     0.0000  9487.0324  5941.930  3867.454  5262.215 10124.5324\n",
       "10  3693.968  9487.0324     0.0000  3585.708 12649.436 14209.114   723.7433\n",
       "11  6864.508  5941.9299  3585.7076     0.000  9318.219 10863.139  4263.5357\n",
       "12 16162.896  3867.4542 12649.4360  9318.219     0.000  1560.280 13204.6793\n",
       "13 17714.696  5262.2149 14209.1144 10863.139  1560.280     0.000 14764.9293\n",
       "14  3406.692 10124.5324   723.7433  4263.536 13204.679 14764.929     0.0000\n",
       "15 16479.857  3739.5942 13110.6386  9624.619  1620.345  1942.677 13716.4626\n",
       "16  1847.721 11060.7174  1849.6242  5122.251 14371.770 15927.611  1662.1562\n",
       "   X15       X16       \n",
       "1  11615.107  7353.7457\n",
       "2  11306.903  3536.4914\n",
       "3   3724.752 15950.5561\n",
       "4   2920.200 11838.5637\n",
       "5  15138.281   520.4173\n",
       "6  20249.522  6085.4811\n",
       "7  19566.531  5331.1145\n",
       "8  16479.857  1847.7206\n",
       "9   3739.594 11060.7174\n",
       "10 13110.639  1849.6242\n",
       "11  9624.619  5122.2507\n",
       "12  1620.345 14371.7702\n",
       "13  1942.677 15927.6109\n",
       "14 13716.463  1662.1562\n",
       "15     0.000 14744.7296\n",
       "16 14744.730     0.0000"
      ]
     },
     "metadata": {},
     "output_type": "display_data"
    }
   ],
   "source": [
    "processedLocation<-processLocation(location)\n",
    "processedLocation"
   ]
  },
  {
   "cell_type": "code",
   "execution_count": 11,
   "metadata": {
    "scrolled": true
   },
   "outputs": [
    {
     "data": {
      "text/html": [
       "<table>\n",
       "<caption>A data.frame: 16 × 2</caption>\n",
       "<thead>\n",
       "\t<tr><th scope=col>marker</th><th scope=col>Location.Address</th></tr>\n",
       "\t<tr><th scope=col>&lt;fct&gt;</th><th scope=col>&lt;fct&gt;</th></tr>\n",
       "</thead>\n",
       "<tbody>\n",
       "\t<tr><td>X1 </td><td>Kampung Felcra Bukit Kapah,21700 Kula Berang, Terengganu</td></tr>\n",
       "\t<tr><td>X2 </td><td>Kampung Tengkawang,21700 Kuala Berang, Terengganu       </td></tr>\n",
       "\t<tr><td>X3 </td><td>Kampung Gaung,21700 Kuala Berang, Terengganu            </td></tr>\n",
       "\t<tr><td>X4 </td><td>Kampung Tajin,21700 Kuala Berang, Terengganu            </td></tr>\n",
       "\t<tr><td>X5 </td><td>Kampung Chapu,21700 Kuala Berang, Terengganu            </td></tr>\n",
       "\t<tr><td>X6 </td><td>Kampung Bukit Kubur,21700 Kuala Berang, Terengganu      </td></tr>\n",
       "\t<tr><td>X7 </td><td>Kampung Teris,21700 Kuala Berang, Terengganu            </td></tr>\n",
       "\t<tr><td>X8 </td><td>Kampung Gapur,21700 Kuala Berang, Terengganu            </td></tr>\n",
       "\t<tr><td>X9 </td><td>Kampung Paya Akob,21700 Kuala Berang, Terengganu        </td></tr>\n",
       "\t<tr><td>X10</td><td>Kampung Kuala Ping,21700 Kuala Berang, Terengganu       </td></tr>\n",
       "\t<tr><td>X11</td><td>Kampung Kepah,21700 Kuala Berang, Terengganu            </td></tr>\n",
       "\t<tr><td>X12</td><td>Kampung Telaga,21700 Kuala Berang Terengganu            </td></tr>\n",
       "\t<tr><td>X13</td><td>Kampung Butut,21700 Kuala Berang, Terengganu            </td></tr>\n",
       "\t<tr><td>X14</td><td>Kampung Katak,21700 Kuala Berang, Terengganu            </td></tr>\n",
       "\t<tr><td>X15</td><td>Kampung Langgar,21700 Kuala Berang, Terengganu          </td></tr>\n",
       "\t<tr><td>X16</td><td>Kampung Pasir Simpul,21700 Kuala Berang, Terengganu     </td></tr>\n",
       "</tbody>\n",
       "</table>\n"
      ],
      "text/latex": [
       "A data.frame: 16 × 2\n",
       "\\begin{tabular}{ll}\n",
       " marker & Location.Address\\\\\n",
       " <fct> & <fct>\\\\\n",
       "\\hline\n",
       "\t X1  & Kampung Felcra Bukit Kapah,21700 Kula Berang, Terengganu\\\\\n",
       "\t X2  & Kampung Tengkawang,21700 Kuala Berang, Terengganu       \\\\\n",
       "\t X3  & Kampung Gaung,21700 Kuala Berang, Terengganu            \\\\\n",
       "\t X4  & Kampung Tajin,21700 Kuala Berang, Terengganu            \\\\\n",
       "\t X5  & Kampung Chapu,21700 Kuala Berang, Terengganu            \\\\\n",
       "\t X6  & Kampung Bukit Kubur,21700 Kuala Berang, Terengganu      \\\\\n",
       "\t X7  & Kampung Teris,21700 Kuala Berang, Terengganu            \\\\\n",
       "\t X8  & Kampung Gapur,21700 Kuala Berang, Terengganu            \\\\\n",
       "\t X9  & Kampung Paya Akob,21700 Kuala Berang, Terengganu        \\\\\n",
       "\t X10 & Kampung Kuala Ping,21700 Kuala Berang, Terengganu       \\\\\n",
       "\t X11 & Kampung Kepah,21700 Kuala Berang, Terengganu            \\\\\n",
       "\t X12 & Kampung Telaga,21700 Kuala Berang Terengganu            \\\\\n",
       "\t X13 & Kampung Butut,21700 Kuala Berang, Terengganu            \\\\\n",
       "\t X14 & Kampung Katak,21700 Kuala Berang, Terengganu            \\\\\n",
       "\t X15 & Kampung Langgar,21700 Kuala Berang, Terengganu          \\\\\n",
       "\t X16 & Kampung Pasir Simpul,21700 Kuala Berang, Terengganu     \\\\\n",
       "\\end{tabular}\n"
      ],
      "text/markdown": [
       "\n",
       "A data.frame: 16 × 2\n",
       "\n",
       "| marker &lt;fct&gt; | Location.Address &lt;fct&gt; |\n",
       "|---|---|\n",
       "| X1  | Kampung Felcra Bukit Kapah,21700 Kula Berang, Terengganu |\n",
       "| X2  | Kampung Tengkawang,21700 Kuala Berang, Terengganu        |\n",
       "| X3  | Kampung Gaung,21700 Kuala Berang, Terengganu             |\n",
       "| X4  | Kampung Tajin,21700 Kuala Berang, Terengganu             |\n",
       "| X5  | Kampung Chapu,21700 Kuala Berang, Terengganu             |\n",
       "| X6  | Kampung Bukit Kubur,21700 Kuala Berang, Terengganu       |\n",
       "| X7  | Kampung Teris,21700 Kuala Berang, Terengganu             |\n",
       "| X8  | Kampung Gapur,21700 Kuala Berang, Terengganu             |\n",
       "| X9  | Kampung Paya Akob,21700 Kuala Berang, Terengganu         |\n",
       "| X10 | Kampung Kuala Ping,21700 Kuala Berang, Terengganu        |\n",
       "| X11 | Kampung Kepah,21700 Kuala Berang, Terengganu             |\n",
       "| X12 | Kampung Telaga,21700 Kuala Berang Terengganu             |\n",
       "| X13 | Kampung Butut,21700 Kuala Berang, Terengganu             |\n",
       "| X14 | Kampung Katak,21700 Kuala Berang, Terengganu             |\n",
       "| X15 | Kampung Langgar,21700 Kuala Berang, Terengganu           |\n",
       "| X16 | Kampung Pasir Simpul,21700 Kuala Berang, Terengganu      |\n",
       "\n"
      ],
      "text/plain": [
       "   marker Location.Address                                        \n",
       "1  X1     Kampung Felcra Bukit Kapah,21700 Kula Berang, Terengganu\n",
       "2  X2     Kampung Tengkawang,21700 Kuala Berang, Terengganu       \n",
       "3  X3     Kampung Gaung,21700 Kuala Berang, Terengganu            \n",
       "4  X4     Kampung Tajin,21700 Kuala Berang, Terengganu            \n",
       "5  X5     Kampung Chapu,21700 Kuala Berang, Terengganu            \n",
       "6  X6     Kampung Bukit Kubur,21700 Kuala Berang, Terengganu      \n",
       "7  X7     Kampung Teris,21700 Kuala Berang, Terengganu            \n",
       "8  X8     Kampung Gapur,21700 Kuala Berang, Terengganu            \n",
       "9  X9     Kampung Paya Akob,21700 Kuala Berang, Terengganu        \n",
       "10 X10    Kampung Kuala Ping,21700 Kuala Berang, Terengganu       \n",
       "11 X11    Kampung Kepah,21700 Kuala Berang, Terengganu            \n",
       "12 X12    Kampung Telaga,21700 Kuala Berang Terengganu            \n",
       "13 X13    Kampung Butut,21700 Kuala Berang, Terengganu            \n",
       "14 X14    Kampung Katak,21700 Kuala Berang, Terengganu            \n",
       "15 X15    Kampung Langgar,21700 Kuala Berang, Terengganu          \n",
       "16 X16    Kampung Pasir Simpul,21700 Kuala Berang, Terengganu     "
      ]
     },
     "metadata": {},
     "output_type": "display_data"
    }
   ],
   "source": [
    "locationMarker<-data.frame(names(a),location[,'Location.Address'])\n",
    "names(locationMarker)<-c('marker', 'Location.Address')\n",
    "locationMarker"
   ]
  },
  {
   "cell_type": "markdown",
   "metadata": {},
   "source": [
    "## Patient Data & Human Data\n",
    "Patient & location that they have visited\n",
    "\n",
    "**KIV** _sample_\n",
    "\n",
    "| Patient/Human | Location | Visit_Frequency | Visit_Duration(s) |\n",
    "|:-|:-|:-|:-|\n",
    "|Patient1|Kampung Pasir Simpul,21700 Kuala Berang, Terengganu|3|28800|\n",
    "|Patient2|Kampung Pasir Simpul,21700 Kuala Berang, Terengganu|1|18800|\n",
    "|Human1|Kampung Pasir Simpul,21700 Kuala Berang, Terengganu|1|18800|\n",
    "|Human2|Kampung Pasir Simpul,21700 Kuala Berang, Terengganu|1|18800|\n",
    "....."
   ]
  },
  {
   "cell_type": "code",
   "execution_count": 96,
   "metadata": {},
   "outputs": [
    {
     "data": {
      "text/html": [
       "<table>\n",
       "<caption>A data.frame: 5 × 5</caption>\n",
       "<thead>\n",
       "\t<tr><th scope=col>Location</th><th scope=col>Patient</th><th scope=col>Visit_Frequency</th><th scope=col>Visit_Duration.s.</th><th scope=col>marker</th></tr>\n",
       "\t<tr><th scope=col>&lt;fct&gt;</th><th scope=col>&lt;fct&gt;</th><th scope=col>&lt;int&gt;</th><th scope=col>&lt;int&gt;</th><th scope=col>&lt;fct&gt;</th></tr>\n",
       "</thead>\n",
       "<tbody>\n",
       "\t<tr><td>Kampung Katak,21700 Kuala Berang, Terengganu       </td><td>Patient4</td><td>1</td><td>10230</td><td>X14</td></tr>\n",
       "\t<tr><td>Kampung Pasir Simpul,21700 Kuala Berang, Terengganu</td><td>Patient1</td><td>3</td><td>28800</td><td>X16</td></tr>\n",
       "\t<tr><td>Kampung Pasir Simpul,21700 Kuala Berang, Terengganu</td><td>Patient2</td><td>1</td><td>18800</td><td>X16</td></tr>\n",
       "\t<tr><td>Kampung Paya Akob,21700 Kuala Berang, Terengganu   </td><td>Patient3</td><td>1</td><td>12500</td><td>X9 </td></tr>\n",
       "\t<tr><td>Kampung Teris,21700 Kuala Berang, Terengganu       </td><td>Patient2</td><td>2</td><td>20123</td><td>X7 </td></tr>\n",
       "</tbody>\n",
       "</table>\n"
      ],
      "text/latex": [
       "A data.frame: 5 × 5\n",
       "\\begin{tabular}{lllll}\n",
       " Location & Patient & Visit\\_Frequency & Visit\\_Duration.s. & marker\\\\\n",
       " <fct> & <fct> & <int> & <int> & <fct>\\\\\n",
       "\\hline\n",
       "\t Kampung Katak,21700 Kuala Berang, Terengganu        & Patient4 & 1 & 10230 & X14\\\\\n",
       "\t Kampung Pasir Simpul,21700 Kuala Berang, Terengganu & Patient1 & 3 & 28800 & X16\\\\\n",
       "\t Kampung Pasir Simpul,21700 Kuala Berang, Terengganu & Patient2 & 1 & 18800 & X16\\\\\n",
       "\t Kampung Paya Akob,21700 Kuala Berang, Terengganu    & Patient3 & 1 & 12500 & X9 \\\\\n",
       "\t Kampung Teris,21700 Kuala Berang, Terengganu        & Patient2 & 2 & 20123 & X7 \\\\\n",
       "\\end{tabular}\n"
      ],
      "text/markdown": [
       "\n",
       "A data.frame: 5 × 5\n",
       "\n",
       "| Location &lt;fct&gt; | Patient &lt;fct&gt; | Visit_Frequency &lt;int&gt; | Visit_Duration.s. &lt;int&gt; | marker &lt;fct&gt; |\n",
       "|---|---|---|---|---|\n",
       "| Kampung Katak,21700 Kuala Berang, Terengganu        | Patient4 | 1 | 10230 | X14 |\n",
       "| Kampung Pasir Simpul,21700 Kuala Berang, Terengganu | Patient1 | 3 | 28800 | X16 |\n",
       "| Kampung Pasir Simpul,21700 Kuala Berang, Terengganu | Patient2 | 1 | 18800 | X16 |\n",
       "| Kampung Paya Akob,21700 Kuala Berang, Terengganu    | Patient3 | 1 | 12500 | X9  |\n",
       "| Kampung Teris,21700 Kuala Berang, Terengganu        | Patient2 | 2 | 20123 | X7  |\n",
       "\n"
      ],
      "text/plain": [
       "  Location                                            Patient  Visit_Frequency\n",
       "1 Kampung Katak,21700 Kuala Berang, Terengganu        Patient4 1              \n",
       "2 Kampung Pasir Simpul,21700 Kuala Berang, Terengganu Patient1 3              \n",
       "3 Kampung Pasir Simpul,21700 Kuala Berang, Terengganu Patient2 1              \n",
       "4 Kampung Paya Akob,21700 Kuala Berang, Terengganu    Patient3 1              \n",
       "5 Kampung Teris,21700 Kuala Berang, Terengganu        Patient2 2              \n",
       "  Visit_Duration.s. marker\n",
       "1 10230             X14   \n",
       "2 28800             X16   \n",
       "3 18800             X16   \n",
       "4 12500             X9    \n",
       "5 20123             X7    "
      ]
     },
     "metadata": {},
     "output_type": "display_data"
    }
   ],
   "source": [
    "patient<-read.csv('patient.csv')\n",
    "patientM<-merge(patient, locationMarker, by.x='Location', by.y='Location.Address')\n",
    "patientM"
   ]
  },
  {
   "cell_type": "markdown",
   "metadata": {},
   "source": [
    "# Link Matrix generation\n",
    "\n",
    "$ LinkMatrix_{BMC network} (X_iH_j) = \\{1,  \\textrm{if }H_j\\textrm{ visited }X_i; 0, \\textrm{if }H_j\\textrm{ did not visit} X_i $"
   ]
  },
  {
   "cell_type": "code",
   "execution_count": 97,
   "metadata": {},
   "outputs": [],
   "source": [
    "generateLinkMatrix<-function(locations, patientData){\n",
    "    n_location = length(unique(locations[,'marker']))\n",
    "    n_patient = length(unique(patientData[,'Patient']))\n",
    "    dm = matrix(ncol=n_patient, nrow=n_location)\n",
    "    for (i in 1:nrow(patientData)) {\n",
    "        pat = as.numeric(unlist(strsplit(as.character(patientData[i,'Patient']),'Patient'))[[2]])\n",
    "        loc = as.numeric(unlist(strsplit(as.character(patientData[i,'marker']),'X'))[[2]])\n",
    "        dm[loc,pat] = 1\n",
    "    }\n",
    "    result = as.data.frame(dm)\n",
    "    result[is.na(result)] = 0\n",
    "    return(result)\n",
    "}"
   ]
  },
  {
   "cell_type": "code",
   "execution_count": 103,
   "metadata": {},
   "outputs": [
    {
     "data": {
      "text/html": [
       "<table>\n",
       "<caption>A data.frame: 16 × 4</caption>\n",
       "<thead>\n",
       "\t<tr><th scope=col>V1</th><th scope=col>V2</th><th scope=col>V3</th><th scope=col>V4</th></tr>\n",
       "\t<tr><th scope=col>&lt;dbl&gt;</th><th scope=col>&lt;dbl&gt;</th><th scope=col>&lt;dbl&gt;</th><th scope=col>&lt;dbl&gt;</th></tr>\n",
       "</thead>\n",
       "<tbody>\n",
       "\t<tr><td>0</td><td>0</td><td>0</td><td>0</td></tr>\n",
       "\t<tr><td>0</td><td>0</td><td>0</td><td>0</td></tr>\n",
       "\t<tr><td>0</td><td>0</td><td>0</td><td>0</td></tr>\n",
       "\t<tr><td>0</td><td>0</td><td>0</td><td>0</td></tr>\n",
       "\t<tr><td>0</td><td>0</td><td>0</td><td>0</td></tr>\n",
       "\t<tr><td>0</td><td>0</td><td>0</td><td>0</td></tr>\n",
       "\t<tr><td>0</td><td>1</td><td>0</td><td>0</td></tr>\n",
       "\t<tr><td>0</td><td>0</td><td>0</td><td>0</td></tr>\n",
       "\t<tr><td>0</td><td>0</td><td>1</td><td>0</td></tr>\n",
       "\t<tr><td>0</td><td>0</td><td>0</td><td>0</td></tr>\n",
       "\t<tr><td>0</td><td>0</td><td>0</td><td>0</td></tr>\n",
       "\t<tr><td>0</td><td>0</td><td>0</td><td>0</td></tr>\n",
       "\t<tr><td>0</td><td>0</td><td>0</td><td>0</td></tr>\n",
       "\t<tr><td>0</td><td>0</td><td>0</td><td>1</td></tr>\n",
       "\t<tr><td>0</td><td>0</td><td>0</td><td>0</td></tr>\n",
       "\t<tr><td>1</td><td>1</td><td>0</td><td>0</td></tr>\n",
       "</tbody>\n",
       "</table>\n"
      ],
      "text/latex": [
       "A data.frame: 16 × 4\n",
       "\\begin{tabular}{llll}\n",
       " V1 & V2 & V3 & V4\\\\\n",
       " <dbl> & <dbl> & <dbl> & <dbl>\\\\\n",
       "\\hline\n",
       "\t 0 & 0 & 0 & 0\\\\\n",
       "\t 0 & 0 & 0 & 0\\\\\n",
       "\t 0 & 0 & 0 & 0\\\\\n",
       "\t 0 & 0 & 0 & 0\\\\\n",
       "\t 0 & 0 & 0 & 0\\\\\n",
       "\t 0 & 0 & 0 & 0\\\\\n",
       "\t 0 & 1 & 0 & 0\\\\\n",
       "\t 0 & 0 & 0 & 0\\\\\n",
       "\t 0 & 0 & 1 & 0\\\\\n",
       "\t 0 & 0 & 0 & 0\\\\\n",
       "\t 0 & 0 & 0 & 0\\\\\n",
       "\t 0 & 0 & 0 & 0\\\\\n",
       "\t 0 & 0 & 0 & 0\\\\\n",
       "\t 0 & 0 & 0 & 1\\\\\n",
       "\t 0 & 0 & 0 & 0\\\\\n",
       "\t 1 & 1 & 0 & 0\\\\\n",
       "\\end{tabular}\n"
      ],
      "text/markdown": [
       "\n",
       "A data.frame: 16 × 4\n",
       "\n",
       "| V1 &lt;dbl&gt; | V2 &lt;dbl&gt; | V3 &lt;dbl&gt; | V4 &lt;dbl&gt; |\n",
       "|---|---|---|---|\n",
       "| 0 | 0 | 0 | 0 |\n",
       "| 0 | 0 | 0 | 0 |\n",
       "| 0 | 0 | 0 | 0 |\n",
       "| 0 | 0 | 0 | 0 |\n",
       "| 0 | 0 | 0 | 0 |\n",
       "| 0 | 0 | 0 | 0 |\n",
       "| 0 | 1 | 0 | 0 |\n",
       "| 0 | 0 | 0 | 0 |\n",
       "| 0 | 0 | 1 | 0 |\n",
       "| 0 | 0 | 0 | 0 |\n",
       "| 0 | 0 | 0 | 0 |\n",
       "| 0 | 0 | 0 | 0 |\n",
       "| 0 | 0 | 0 | 0 |\n",
       "| 0 | 0 | 0 | 1 |\n",
       "| 0 | 0 | 0 | 0 |\n",
       "| 1 | 1 | 0 | 0 |\n",
       "\n"
      ],
      "text/plain": [
       "   V1 V2 V3 V4\n",
       "1  0  0  0  0 \n",
       "2  0  0  0  0 \n",
       "3  0  0  0  0 \n",
       "4  0  0  0  0 \n",
       "5  0  0  0  0 \n",
       "6  0  0  0  0 \n",
       "7  0  1  0  0 \n",
       "8  0  0  0  0 \n",
       "9  0  0  1  0 \n",
       "10 0  0  0  0 \n",
       "11 0  0  0  0 \n",
       "12 0  0  0  0 \n",
       "13 0  0  0  0 \n",
       "14 0  0  0  1 \n",
       "15 0  0  0  0 \n",
       "16 1  1  0  0 "
      ]
     },
     "metadata": {},
     "output_type": "display_data"
    }
   ],
   "source": [
    "lnkMtrx <- generateLinkMatrix(locationMarker, patientM)\n",
    "lnkMtrx"
   ]
  },
  {
   "cell_type": "markdown",
   "metadata": {},
   "source": [
    "# FL calculation\n",
    "$Fl_i = \\sum_{j=1}^{n\\_patient} {\\textrm{Link Matrix}_{BMC network} (X_jH_i)}, i \\in location, j \\in patient$"
   ]
  },
  {
   "cell_type": "code",
   "execution_count": 106,
   "metadata": {},
   "outputs": [],
   "source": [
    "generateFL<-function(linkMatrix){\n",
    "    FLVector = rowSums(linkMatrix)\n",
    "    return(FLVector)\n",
    "}"
   ]
  },
  {
   "cell_type": "code",
   "execution_count": 108,
   "metadata": {},
   "outputs": [
    {
     "data": {
      "text/html": [
       "<style>\n",
       ".list-inline {list-style: none; margin:0; padding: 0}\n",
       ".list-inline>li {display: inline-block}\n",
       ".list-inline>li:not(:last-child)::after {content: \"\\00b7\"; padding: 0 .5ex}\n",
       "</style>\n",
       "<ol class=list-inline><li>0</li><li>0</li><li>0</li><li>0</li><li>0</li><li>0</li><li>1</li><li>0</li><li>1</li><li>0</li><li>0</li><li>0</li><li>0</li><li>1</li><li>0</li><li>2</li></ol>\n"
      ],
      "text/latex": [
       "\\begin{enumerate*}\n",
       "\\item 0\n",
       "\\item 0\n",
       "\\item 0\n",
       "\\item 0\n",
       "\\item 0\n",
       "\\item 0\n",
       "\\item 1\n",
       "\\item 0\n",
       "\\item 1\n",
       "\\item 0\n",
       "\\item 0\n",
       "\\item 0\n",
       "\\item 0\n",
       "\\item 1\n",
       "\\item 0\n",
       "\\item 2\n",
       "\\end{enumerate*}\n"
      ],
      "text/markdown": [
       "1. 0\n",
       "2. 0\n",
       "3. 0\n",
       "4. 0\n",
       "5. 0\n",
       "6. 0\n",
       "7. 1\n",
       "8. 0\n",
       "9. 1\n",
       "10. 0\n",
       "11. 0\n",
       "12. 0\n",
       "13. 0\n",
       "14. 1\n",
       "15. 0\n",
       "16. 2\n",
       "\n",
       "\n"
      ],
      "text/plain": [
       " [1] 0 0 0 0 0 0 1 0 1 0 0 0 0 1 0 2"
      ]
     },
     "metadata": {},
     "output_type": "display_data"
    }
   ],
   "source": [
    "Fl <- generateFL(lnkMtrx)"
   ]
  },
  {
   "cell_type": "markdown",
   "metadata": {},
   "source": [
    "# DP calculation\n",
    "$DP_i = \\sum_{j=1}^{n\\_patient} {\\textrm{Duration}_{i,j}}, i \\in location, j \\in patient$"
   ]
  },
  {
   "cell_type": "code",
   "execution_count": 121,
   "metadata": {},
   "outputs": [],
   "source": [
    "generateDP <- function(locations, patientData){\n",
    "    n_location = length(unique(locations[,'marker']))\n",
    "    dm = matrix(ncol=1, nrow=n_location, data=0)\n",
    "    for (i in 1:nrow(patientData)) {\n",
    "        loc = as.numeric(unlist(strsplit(as.character(patientData[i,'marker']),'X'))[[2]])\n",
    "        dm[loc,1] = dm[loc,1] + patientData[i, 'Visit_Duration.s.']\n",
    "    }\n",
    "    return(as.vector(dm))\n",
    "}"
   ]
  },
  {
   "cell_type": "code",
   "execution_count": 122,
   "metadata": {},
   "outputs": [
    {
     "data": {
      "text/html": [
       "<style>\n",
       ".list-inline {list-style: none; margin:0; padding: 0}\n",
       ".list-inline>li {display: inline-block}\n",
       ".list-inline>li:not(:last-child)::after {content: \"\\00b7\"; padding: 0 .5ex}\n",
       "</style>\n",
       "<ol class=list-inline><li>0</li><li>0</li><li>0</li><li>0</li><li>0</li><li>0</li><li>20123</li><li>0</li><li>12500</li><li>0</li><li>0</li><li>0</li><li>0</li><li>10230</li><li>0</li><li>47600</li></ol>\n"
      ],
      "text/latex": [
       "\\begin{enumerate*}\n",
       "\\item 0\n",
       "\\item 0\n",
       "\\item 0\n",
       "\\item 0\n",
       "\\item 0\n",
       "\\item 0\n",
       "\\item 20123\n",
       "\\item 0\n",
       "\\item 12500\n",
       "\\item 0\n",
       "\\item 0\n",
       "\\item 0\n",
       "\\item 0\n",
       "\\item 10230\n",
       "\\item 0\n",
       "\\item 47600\n",
       "\\end{enumerate*}\n"
      ],
      "text/markdown": [
       "1. 0\n",
       "2. 0\n",
       "3. 0\n",
       "4. 0\n",
       "5. 0\n",
       "6. 0\n",
       "7. 20123\n",
       "8. 0\n",
       "9. 12500\n",
       "10. 0\n",
       "11. 0\n",
       "12. 0\n",
       "13. 0\n",
       "14. 10230\n",
       "15. 0\n",
       "16. 47600\n",
       "\n",
       "\n"
      ],
      "text/plain": [
       " [1]     0     0     0     0     0     0 20123     0 12500     0     0     0\n",
       "[13]     0 10230     0 47600"
      ]
     },
     "metadata": {},
     "output_type": "display_data"
    }
   ],
   "source": [
    "generateDP(locationMarker, patientM)"
   ]
  },
  {
   "cell_type": "markdown",
   "metadata": {},
   "source": [
    "# SL calculation"
   ]
  },
  {
   "cell_type": "code",
   "execution_count": null,
   "metadata": {},
   "outputs": [],
   "source": []
  },
  {
   "cell_type": "markdown",
   "metadata": {},
   "source": [
    "# Human data"
   ]
  },
  {
   "cell_type": "code",
   "execution_count": 124,
   "metadata": {},
   "outputs": [
    {
     "data": {
      "text/html": [
       "<table>\n",
       "<caption>A data.frame: 5 × 7</caption>\n",
       "<thead>\n",
       "\t<tr><th scope=col>Human</th><th scope=col>Location</th><th scope=col>Visit_Frequency</th><th scope=col>Visit_Duration.s.</th><th scope=col>Vaccination</th><th scope=col>Age</th><th scope=col>Pregnancy</th></tr>\n",
       "\t<tr><th scope=col>&lt;fct&gt;</th><th scope=col>&lt;fct&gt;</th><th scope=col>&lt;int&gt;</th><th scope=col>&lt;int&gt;</th><th scope=col>&lt;int&gt;</th><th scope=col>&lt;int&gt;</th><th scope=col>&lt;int&gt;</th></tr>\n",
       "</thead>\n",
       "<tbody>\n",
       "\t<tr><td>Human1</td><td>Kampung Pasir Simpul,21700 Kuala Berang, Terengganu</td><td>3</td><td>28800</td><td>2</td><td>23</td><td>0</td></tr>\n",
       "\t<tr><td>Human2</td><td>Kampung Pasir Simpul,21700 Kuala Berang, Terengganu</td><td>1</td><td>18800</td><td>2</td><td>45</td><td>1</td></tr>\n",
       "\t<tr><td>Human2</td><td>Kampung Teris,21700 Kuala Berang, Terengganu       </td><td>2</td><td>20123</td><td>2</td><td>54</td><td>0</td></tr>\n",
       "\t<tr><td>Human3</td><td>Kampung Paya Akob,21700 Kuala Berang, Terengganu   </td><td>1</td><td>12500</td><td>1</td><td>65</td><td>1</td></tr>\n",
       "\t<tr><td>Human4</td><td>Kampung Katak,21700 Kuala Berang, Terengganu       </td><td>1</td><td>10230</td><td>1</td><td>12</td><td>0</td></tr>\n",
       "</tbody>\n",
       "</table>\n"
      ],
      "text/latex": [
       "A data.frame: 5 × 7\n",
       "\\begin{tabular}{lllllll}\n",
       " Human & Location & Visit\\_Frequency & Visit\\_Duration.s. & Vaccination & Age & Pregnancy\\\\\n",
       " <fct> & <fct> & <int> & <int> & <int> & <int> & <int>\\\\\n",
       "\\hline\n",
       "\t Human1 & Kampung Pasir Simpul,21700 Kuala Berang, Terengganu & 3 & 28800 & 2 & 23 & 0\\\\\n",
       "\t Human2 & Kampung Pasir Simpul,21700 Kuala Berang, Terengganu & 1 & 18800 & 2 & 45 & 1\\\\\n",
       "\t Human2 & Kampung Teris,21700 Kuala Berang, Terengganu        & 2 & 20123 & 2 & 54 & 0\\\\\n",
       "\t Human3 & Kampung Paya Akob,21700 Kuala Berang, Terengganu    & 1 & 12500 & 1 & 65 & 1\\\\\n",
       "\t Human4 & Kampung Katak,21700 Kuala Berang, Terengganu        & 1 & 10230 & 1 & 12 & 0\\\\\n",
       "\\end{tabular}\n"
      ],
      "text/markdown": [
       "\n",
       "A data.frame: 5 × 7\n",
       "\n",
       "| Human &lt;fct&gt; | Location &lt;fct&gt; | Visit_Frequency &lt;int&gt; | Visit_Duration.s. &lt;int&gt; | Vaccination &lt;int&gt; | Age &lt;int&gt; | Pregnancy &lt;int&gt; |\n",
       "|---|---|---|---|---|---|---|\n",
       "| Human1 | Kampung Pasir Simpul,21700 Kuala Berang, Terengganu | 3 | 28800 | 2 | 23 | 0 |\n",
       "| Human2 | Kampung Pasir Simpul,21700 Kuala Berang, Terengganu | 1 | 18800 | 2 | 45 | 1 |\n",
       "| Human2 | Kampung Teris,21700 Kuala Berang, Terengganu        | 2 | 20123 | 2 | 54 | 0 |\n",
       "| Human3 | Kampung Paya Akob,21700 Kuala Berang, Terengganu    | 1 | 12500 | 1 | 65 | 1 |\n",
       "| Human4 | Kampung Katak,21700 Kuala Berang, Terengganu        | 1 | 10230 | 1 | 12 | 0 |\n",
       "\n"
      ],
      "text/plain": [
       "  Human  Location                                            Visit_Frequency\n",
       "1 Human1 Kampung Pasir Simpul,21700 Kuala Berang, Terengganu 3              \n",
       "2 Human2 Kampung Pasir Simpul,21700 Kuala Berang, Terengganu 1              \n",
       "3 Human2 Kampung Teris,21700 Kuala Berang, Terengganu        2              \n",
       "4 Human3 Kampung Paya Akob,21700 Kuala Berang, Terengganu    1              \n",
       "5 Human4 Kampung Katak,21700 Kuala Berang, Terengganu        1              \n",
       "  Visit_Duration.s. Vaccination Age Pregnancy\n",
       "1 28800             2           23  0        \n",
       "2 18800             2           45  1        \n",
       "3 20123             2           54  0        \n",
       "4 12500             1           65  1        \n",
       "5 10230             1           12  0        "
      ]
     },
     "metadata": {},
     "output_type": "display_data"
    }
   ],
   "source": [
    "human<-read.csv('human.csv')\n",
    "human"
   ]
  },
  {
   "cell_type": "markdown",
   "metadata": {},
   "source": [
    "# Fh calculation"
   ]
  },
  {
   "cell_type": "code",
   "execution_count": null,
   "metadata": {},
   "outputs": [],
   "source": [
    "generateFH()"
   ]
  }
 ],
 "metadata": {
  "kernelspec": {
   "display_name": "R",
   "language": "R",
   "name": "ir"
  },
  "language_info": {
   "codemirror_mode": "r",
   "file_extension": ".r",
   "mimetype": "text/x-r-source",
   "name": "R",
   "pygments_lexer": "r",
   "version": "3.6.3"
  }
 },
 "nbformat": 4,
 "nbformat_minor": 4
}
